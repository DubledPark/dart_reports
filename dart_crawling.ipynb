{
 "cells": [
  {
   "cell_type": "markdown",
   "metadata": {},
   "source": [
    "# DART.fss.or.kr에서 파일 다운로드하기"
   ]
  },
  {
   "cell_type": "code",
   "execution_count": 1,
   "metadata": {
    "collapsed": false
   },
   "outputs": [],
   "source": [
    "#json을 읽기 위해서 우선 requests가 필요하고...\n",
    "import requests\n",
    "import pandas as pd\n",
    "#나중에 등장하는 dcm_no의 xpath을 구하기 위한 lxml \n",
    "from lxml import html\n",
    "#RegEx를 나중에 쓰게 된다면 필요한 re\n",
    "import re\n",
    "\n",
    "%load_ext autoreload\n",
    "%autoreload 2\n",
    "\n",
    "from utils import *\n",
    "\n",
    "#위에 있는 download_file util 대신 curl을 이용할까 했으나 한국말을 못알아들어서 포기...\n",
    "#from subprocess import call"
   ]
  },
  {
   "cell_type": "markdown",
   "metadata": {},
   "source": [
    "API Key를 넣어주세요. [인증키 신청](http://dart.fss.or.kr/dsap001/apikeyManagement.do;jsessionid=Bs7AWiSzD8YmbBx0Zg3WoEixviKFJ7tL2OmeavY5lXpuYNh4MBmNjvvrgldaazhx.dart2_servlet_engine2)은 DART 계정을 만든 후 간단하게 할 수 있습니다"
   ]
  },
  {
   "cell_type": "code",
   "execution_count": 2,
   "metadata": {
    "collapsed": true
   },
   "outputs": [],
   "source": [
    "API_KEY = open('api_key.txt','r').read()"
   ]
  },
  {
   "cell_type": "markdown",
   "metadata": {},
   "source": [
    "## 1. 원하는 회사의 사업보고서 링크 목록을 가져와봅시다. "
   ]
  },
  {
   "cell_type": "markdown",
   "metadata": {},
   "source": [
    "#### 1) 회사의 종목코드를 가져오세요. (엑셀 출처: [한국거래소 전자공시 홈페이지](http://kind.krx.co.kr/corpgeneral/corpList.do?method=loadInitPage))"
   ]
  },
  {
   "cell_type": "code",
   "execution_count": 3,
   "metadata": {
    "collapsed": false
   },
   "outputs": [],
   "source": [
    "#회사 정보가 들어있는 엑셀을 읽어오되, 종목코드는 int가 아닌 str로 가져와야 합니다 (안 그러면 앞의 0이 지워져서 나오게 돼요)\n",
    "#엑셀 source: http://kind.krx.co.kr/corpgeneral/corpList.do?method=loadInitPage\n",
    "company_codes = pd.read_excel('company_codes.xlsx',converters={'종목코드':str})"
   ]
  },
  {
   "cell_type": "code",
   "execution_count": 5,
   "metadata": {
    "collapsed": false,
    "scrolled": false
   },
   "outputs": [
    {
     "name": "stdout",
     "output_type": "stream",
     "text": [
      "회사명을 입력해주세요: 피\n"
     ]
    }
   ],
   "source": [
    "#회사명 입력란을 만들어요\n",
    "name_input = input('회사명을 입력해주세요: ')"
   ]
  },
  {
   "cell_type": "code",
   "execution_count": 6,
   "metadata": {
    "collapsed": false
   },
   "outputs": [
    {
     "name": "stdout",
     "output_type": "stream",
     "text": [
      "해당 이름의 회사명이 존재하지 않습니다. \n",
      "아래 회사명 중 하나를 찾으시나요? 다시 입력해주세요.\n",
      "\n",
      "동양피스톤\n",
      "에스엔피월드\n",
      "케이피에스\n",
      "이엘피\n",
      "피씨엘\n",
      "피엔아이시스템\n",
      "피시피아비아이티\n",
      "세화피앤씨\n",
      "피엔에이치테크\n",
      "제이에스피브이\n",
      "피앤씨테크\n",
      "한솔씨앤피\n",
      "럭스피아\n",
      "유진에이씨피씨스팩2호\n",
      "유디피\n",
      "피노텍\n",
      "슈피겐코리아\n",
      "영우디에스피\n",
      "엘피케이\n",
      "에스엔피제네틱스\n",
      "피엠디아카데미\n",
      "피엔티\n",
      "피앤이솔루션\n",
      "티피씨글로벌\n",
      "피제이메탈\n",
      "디에이치피코리아\n",
      "인피니트헬스케어\n",
      "동양피엔에프\n",
      "아주캐피탈\n",
      "상신이디피\n",
      "동양이엔피\n",
      "케이에스피\n",
      "디에이피\n",
      "케이피엠테크\n",
      "에스피지\n",
      "대진디엠피\n",
      "케이피티\n",
      "피씨디렉트\n",
      "피앤텔\n",
      "피에스엠씨\n",
      "금화피에스시\n",
      "엔피케이\n",
      "디피씨\n",
      "피델릭스\n",
      "피에스케이\n",
      "메이슨캐피탈\n",
      "대호피앤씨\n",
      "케이씨피드\n",
      "케이피에프\n",
      "한국캐피탈\n",
      "지엠피\n",
      "피제이전자\n",
      "큐캐피탈\n",
      "피에스텍\n",
      "한솔피엔에스\n",
      "에이엔피\n",
      "조광피혁\n",
      "엔피씨\n",
      "피혁\n",
      "해당 이름의 회사명이 존재하지 않습니다. \n",
      "아래 회사명 중 하나를 찾으시나요? 다시 입력해주세요.\n",
      "\n",
      "조광피혁\n",
      "조광\n",
      "해당 이름의 회사명이 존재하지 않습니다. \n",
      "아래 회사명 중 하나를 찾으시나요? 다시 입력해주세요.\n",
      "\n",
      "조광ILI\n",
      "조광피혁\n",
      "조광페인트\n",
      "조광페인트\n",
      "조광페인트 종목코드: 004910\n"
     ]
    }
   ],
   "source": [
    "#입력된 회사명이 없으면 진행이 안돼요\n",
    "#CAVEAT: CJ같이 단독으로도 회사명이 존재하지만 CJ오쇼핑 같이 이게 포함된 회사명이 있는 경우, 찾아주지는 못합니다\n",
    "while len(company_codes[company_codes.회사명 ==  name_input]) == 0:\n",
    "    print('해당 이름의 회사명이 존재하지 않습니다. \\n아래 회사명 중 하나를 찾으시나요? 다시 입력해주세요.\\n')\n",
    "    for row in company_codes.회사명:\n",
    "        if row.find(name_input) != -1:\n",
    "            print(row)\n",
    "    name_input = input()\n",
    "code = company_codes[company_codes.회사명 == name_input].종목코드.iloc[0]\n",
    "print(name_input+\" 종목코드: \"+code)"
   ]
  },
  {
   "cell_type": "markdown",
   "metadata": {},
   "source": [
    "#### 2) 보고서 목록 URL을 생성하세요"
   ]
  },
  {
   "cell_type": "code",
   "execution_count": 7,
   "metadata": {
    "collapsed": true
   },
   "outputs": [],
   "source": [
    "#t시작날짜는 최초의 기업이 상장한 날짜인 1956년 3월보다 이전으로 잡았습니다\n",
    "start_date = '19560101'\n",
    "#Document type: 사업보고서\n",
    "bsn_tp = 'A001'"
   ]
  },
  {
   "cell_type": "code",
   "execution_count": 8,
   "metadata": {
    "collapsed": false
   },
   "outputs": [],
   "source": [
    "url = \"http://dart.fss.or.kr/api/search.json?auth=\"+API_KEY+\"&crp_cd=\"+code+\"&start_dt=\"+start_date+\"&bsn_tp=\"+bsn_tp+\"&fin_rpt=Y&page_set=100\""
   ]
  },
  {
   "cell_type": "markdown",
   "metadata": {},
   "source": [
    "#### 3) 개별 보고서 URL을 생성하세요"
   ]
  },
  {
   "cell_type": "code",
   "execution_count": 9,
   "metadata": {
    "collapsed": false
   },
   "outputs": [],
   "source": [
    "#json 값을 추출합시다\n",
    "a = requests.get(url).json()"
   ]
  },
  {
   "cell_type": "code",
   "execution_count": 10,
   "metadata": {
    "collapsed": false,
    "scrolled": false
   },
   "outputs": [
    {
     "name": "stdout",
     "output_type": "stream",
     "text": [
      "사업보고서 (2016.12): http://dart.fss.or.kr/dsaf001/main.do?rcpNo=20170329000180\n",
      "사업보고서 (2015.12): http://dart.fss.or.kr/dsaf001/main.do?rcpNo=20160329000196\n",
      "사업보고서 (2014.12): http://dart.fss.or.kr/dsaf001/main.do?rcpNo=20150330000683\n",
      "사업보고서 (2013.12): http://dart.fss.or.kr/dsaf001/main.do?rcpNo=20140327000156\n",
      "사업보고서 (2012.12): http://dart.fss.or.kr/dsaf001/main.do?rcpNo=20130328000171\n",
      "사업보고서 (2011.12): http://dart.fss.or.kr/dsaf001/main.do?rcpNo=20120514000508\n",
      "사업보고서 (2010.12): http://dart.fss.or.kr/dsaf001/main.do?rcpNo=20110331000297\n",
      "사업보고서 (2009.12): http://dart.fss.or.kr/dsaf001/main.do?rcpNo=20100331000275\n",
      "사업보고서 (2008.12): http://dart.fss.or.kr/dsaf001/main.do?rcpNo=20090330000266\n",
      "사업보고서 (2007.12): http://dart.fss.or.kr/dsaf001/main.do?rcpNo=20080328000029\n",
      "사업보고서 (2006.12): http://dart.fss.or.kr/dsaf001/main.do?rcpNo=20070328000563\n",
      "사업보고서 (2005.12): http://dart.fss.or.kr/dsaf001/main.do?rcpNo=20060504000097\n",
      "사업보고서 (2004.12): http://dart.fss.or.kr/dsaf001/main.do?rcpNo=20050331000004\n",
      "사업보고서 (2003.12): http://dart.fss.or.kr/dsaf001/main.do?rcpNo=20040511000660\n",
      "사업보고서 (2002.12): http://dart.fss.or.kr/dsaf001/main.do?rcpNo=20030326000266\n",
      "사업보고서 (2001.12): http://dart.fss.or.kr/dsaf001/main.do?rcpNo=20020329001260\n",
      "사업보고서 (2000.12): http://dart.fss.or.kr/dsaf001/main.do?rcpNo=20010403000039\n",
      "사업보고서 (1999.12): http://dart.fss.or.kr/dsaf001/main.do?rcpNo=20000328000088\n",
      "사업보고서 (1998.12): http://dart.fss.or.kr/dsaf001/main.do?rcpNo=19990622000007\n"
     ]
    }
   ],
   "source": [
    "#각 사업보고서 당 리스트가 제대로 생성되는 지 봅시다. 하나도 없으면 코드 돌려봤자 아무것도 다운 안 됨\n",
    "urldict = {}\n",
    "for row in a['list']:\n",
    "    url2 = \"http://dart.fss.or.kr/dsaf001/main.do?rcpNo=\"\n",
    "    name = row['rpt_nm']\n",
    "    #[기재정정] [첨부추가] [첨부정정] 등 앞에 붙은 것을 제거해봅시다\n",
    "    if name.find('[') != -1:\n",
    "        name = name.split(']')[1]\n",
    "    urldict[name] = url2+row['rcp_no']\n",
    "    print(name+\": \"+url2+row['rcp_no'])"
   ]
  },
  {
   "cell_type": "markdown",
   "metadata": {},
   "source": [
    "## 2. 각 사업보고서의 첨부파일 리스트를 확인하고 다운로드합시다"
   ]
  },
  {
   "cell_type": "code",
   "execution_count": 11,
   "metadata": {
    "collapsed": false
   },
   "outputs": [
    {
     "name": "stdout",
     "output_type": "stream",
     "text": [
      "사업보고서 (2016.12) http://dart.fss.or.kr/pdf/download/main.do?rcp_no=20170329000180&dcm_no=5511995 다운 중... 1 out of 19\n",
      "사업보고서 (2015.12) http://dart.fss.or.kr/pdf/download/main.do?rcp_no=20160329000196&dcm_no=5006277 다운 중... 2 out of 19\n",
      "사업보고서 (2014.12) http://dart.fss.or.kr/pdf/download/main.do?rcp_no=20150330000683&dcm_no=4541050 다운 중... 3 out of 19\n",
      "사업보고서 (2013.12) http://dart.fss.or.kr/pdf/download/main.do?rcp_no=20140327000156&dcm_no=4093767 다운 중... 4 out of 19\n",
      "사업보고서 (2012.12) http://dart.fss.or.kr/pdf/download/main.do?rcp_no=20130328000171&dcm_no=3686972 다운 중... 5 out of 19\n",
      "사업보고서 (2011.12) http://dart.fss.or.kr/pdf/download/main.do?rcp_no=20120514000508&dcm_no=3413538 다운 중... 6 out of 19\n",
      "사업보고서 (2010.12) http://dart.fss.or.kr/pdf/download/main.do?rcp_no=20110331000297&dcm_no=2956560 다운 중... 7 out of 19\n",
      "사업보고서 (2009.12) http://dart.fss.or.kr/pdf/download/main.do?rcp_no=20100331000275&dcm_no=2584703 다운 중... 8 out of 19\n",
      "사업보고서 (2008.12) http://dart.fss.or.kr/pdf/download/main.do?rcp_no=20090330000266&dcm_no=2173338 다운 중... 9 out of 19\n",
      "사업보고서 (2007.12) http://dart.fss.or.kr/pdf/download/main.do?rcp_no=20080328000029&dcm_no=1855093 다운 중... 10 out of 19\n",
      "사업보고서 (2006.12) http://dart.fss.or.kr/pdf/download/main.do?rcp_no=20070328000563&dcm_no=1557721 다운 중... 11 out of 19\n",
      "사업보고서 (2005.12) http://dart.fss.or.kr/pdf/download/main.do?rcp_no=20060504000097&dcm_no=1365771 다운 중... 12 out of 19\n",
      "사업보고서 (2004.12) http://dart.fss.or.kr/pdf/download/main.do?rcp_no=20050331000004&dcm_no=1039345 다운 중... 13 out of 19\n",
      "사업보고서 (2003.12) http://dart.fss.or.kr/pdf/download/main.do?rcp_no=20040511000660&dcm_no=855362 다운 중... 14 out of 19\n",
      "사업보고서 (2002.12) http://dart.fss.or.kr/pdf/download/main.do?rcp_no=20030326000266&dcm_no=550676 다운 중... 15 out of 19\n",
      "사업보고서 (2001.12) http://dart.fss.or.kr/pdf/download/main.do?rcp_no=20020329001260&dcm_no=342604 다운 중... 16 out of 19\n",
      "사업보고서 (2000.12) http://dart.fss.or.kr/pdf/download/main.do?rcp_no=20010403000039&dcm_no=182592 다운 중... 17 out of 19\n",
      "사업보고서 (1999.12) http://dart.fss.or.kr/pdf/download/main.do?rcp_no=20000328000088&dcm_no=34346 다운 중... 18 out of 19\n",
      "사업보고서 (1998.12) http://dart.fss.or.kr/pdf/download/main.do?rcp_no=19990622000007&dcm_no=14334 다운 중... 19 out of 19\n"
     ]
    }
   ],
   "source": [
    "#카운터 선정\n",
    "n=1\n",
    "\n",
    "for key, value in urldict.items(): \n",
    "    #dcm_no 값을 알아야 다운로드 링크에 접근할 수 있는데, 알 방법이 링크에서 바로 가져오는 방법밖에 없으므로 xpath을 활용해서 알아봅시다\n",
    "    test = requests.get(value)\n",
    "    tree = html.fromstring(test.content)\n",
    "    testpath = tree.xpath('//*[@id=\"north\"]/div[2]/ul/li[1]/a/@onclick')[0]\n",
    "    dcm_no = dcm_no = testpath.split(\", '\")[1].split(\"')\")[0]\n",
    "    \n",
    "    #다운로드를 위한 url은 보고서 url과 차이점이 몇 가지 있는데, replace를 통해 추가할 수 있어요\n",
    "    download_url = value.replace('dsaf001','pdf/download').replace('rcpNo','rcp_no')+\"&dcm_no=\"+dcm_no\n",
    "    print(key+\" \"+download_url+\" 다운 중... \"+str(n)+\" out of \"+str(len(urldict)))\n",
    "    \n",
    "    #dcm_no를 구했던 것과 같은 방법으로 첨부파일 다운로드 url을 추출합니다\n",
    "    dtest = requests.get(download_url)\n",
    "    dtree = html.fromstring(dtest.text)\n",
    "    \n",
    "    #각 보고서 당 복수의 첨부파일이 존재하는데, 첨부파일 이름과 함께 저장하기 위해 downloadpath라는 dict를 사용했습니다\n",
    "    downloadpath={}\n",
    "    keys = dtree.xpath('/html/body/div/div/table/tr/td[1]/text()')\n",
    "    key_links = dtree.xpath('/html/body/div/div/table/tr/td/a/@href')\n",
    "    for key2, link in zip(keys, key_links):\n",
    "        l = \"http://dart.fss.or.kr\"+link\n",
    "        k = key2.replace(\")\",\"\")\n",
    "        downloadpath[k] = l\n",
    "    #print(downloadpath)\n",
    "        \n",
    "    #utils에 있는 download_file을 이요해 디렉토리를 만들고 그 안에다가 파일을 집어넣습니다\n",
    "    for key2, link in downloadpath.items():\n",
    "        download_file(link,filename=key2,directory=\"dart_\"+name_input+\"/\"+key)\n",
    "        #try:\n",
    "            #os.mkdir(key)\n",
    "        #except:\n",
    "            #pass\n",
    "        #call(['curl',link,'-o',key+'/'+key2])\n",
    "    n+=1"
   ]
  },
  {
   "cell_type": "code",
   "execution_count": null,
   "metadata": {
    "collapsed": true
   },
   "outputs": [],
   "source": []
  }
 ],
 "metadata": {
  "kernelspec": {
   "display_name": "Python 3",
   "language": "python",
   "name": "python3"
  },
  "language_info": {
   "codemirror_mode": {
    "name": "ipython",
    "version": 3
   },
   "file_extension": ".py",
   "mimetype": "text/x-python",
   "name": "python",
   "nbconvert_exporter": "python",
   "pygments_lexer": "ipython3",
   "version": "3.6.0"
  },
  "widgets": {
   "state": {
    "0f2c896423194e4fbdf33715985f931b": {
     "views": [
      {
       "cell_index": 29
      }
     ]
    },
    "1ab8a5f461574fa4972888a502ccfcba": {
     "views": [
      {
       "cell_index": 17
      }
     ]
    },
    "2731cc328bae45e1b3f7cadb4c4f3be3": {
     "views": [
      {
       "cell_index": 29
      }
     ]
    },
    "50d545f6502e4637bebfa1bf197a3758": {
     "views": [
      {
       "cell_index": 17
      }
     ]
    },
    "52f8572baf294851bc99ac65064e8d0d": {
     "views": [
      {
       "cell_index": 17
      }
     ]
    },
    "81f9a2bd42ec45c191cd68f08c5597f9": {
     "views": [
      {
       "cell_index": 29
      }
     ]
    },
    "98bd4f9536dc4043a8525c1c6d15a602": {
     "views": [
      {
       "cell_index": 29
      }
     ]
    },
    "b3a0f68b69e24a36a99f1bc63bbe13b8": {
     "views": [
      {
       "cell_index": 17
      }
     ]
    },
    "b6c6413419044aa0b60c9db37d145a0f": {
     "views": [
      {
       "cell_index": 17
      }
     ]
    },
    "baffd954f66d49cf9bfe6e9ed75b95b4": {
     "views": [
      {
       "cell_index": 17
      }
     ]
    },
    "c4954b3ba6324262a749d5b80949fb3c": {
     "views": [
      {
       "cell_index": 29
      }
     ]
    },
    "d8f466834db84a7f8b58140c0088e4ff": {
     "views": [
      {
       "cell_index": 29
      }
     ]
    },
    "f5a3cf8e48634c859c71cf66571732f4": {
     "views": [
      {
       "cell_index": 29
      }
     ]
    },
    "f6f2a45be5df4697a42f8bb4aee20c63": {
     "views": [
      {
       "cell_index": 29
      }
     ]
    }
   },
   "version": "1.2.0"
  }
 },
 "nbformat": 4,
 "nbformat_minor": 2
}
